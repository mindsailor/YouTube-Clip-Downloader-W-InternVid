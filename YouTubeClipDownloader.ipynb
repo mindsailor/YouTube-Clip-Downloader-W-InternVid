{
  "nbformat": 4,
  "nbformat_minor": 0,
  "metadata": {
    "colab": {
      "provenance": []
    },
    "kernelspec": {
      "name": "python3",
      "display_name": "Python 3"
    },
    "language_info": {
      "name": "python"
    }
  },
  "cells": [
    {
      "cell_type": "code",
      "source": [
        "#Mount Gdrive\n",
        "from google.colab import drive\n",
        "drive.mount('/content/drive')"
      ],
      "metadata": {
        "colab": {
          "base_uri": "https://localhost:8080/"
        },
        "id": "cytagHdeqTse",
        "outputId": "0c9b38b2-f598-4b95-990f-43749bf33e81"
      },
      "execution_count": 2,
      "outputs": [
        {
          "output_type": "stream",
          "name": "stdout",
          "text": [
            "Mounted at /content/drive\n"
          ]
        }
      ]
    },
    {
      "cell_type": "code",
      "source": [
        "#Download caption file here https://huggingface.co/datasets/OpenGVLab/InternVid/tree/main \"caption.jsonl\"    #Copy your caption file from GDRIVE to \"/content/YouTubeClipDownloader/caption.jsonl\" this assumes file is in root of GDRIVE\n",
        "!mkdir /content/YouTubeClipDownloader/\n",
        "!cp /content/drive/MyDrive/caption.jsonl /content/YouTubeClipDownloader/caption.jsonl"
      ],
      "metadata": {
        "colab": {
          "base_uri": "https://localhost:8080/"
        },
        "id": "EvpUfBKcqbpw",
        "outputId": "0ec724d5-3653-4dc0-d0c6-8292103db7b9"
      },
      "execution_count": 11,
      "outputs": [
        {
          "output_type": "stream",
          "name": "stdout",
          "text": [
            "mkdir: cannot create directory ‘/content/YouTubeClipDownloader/’: File exists\n"
          ]
        }
      ]
    },
    {
      "cell_type": "code",
      "execution_count": null,
      "metadata": {
        "colab": {
          "base_uri": "https://localhost:8080/"
        },
        "id": "xrtswGjnqDb4",
        "outputId": "84a6204c-f7a0-414c-b75a-d7d08bc97e76"
      },
      "outputs": [
        {
          "output_type": "stream",
          "name": "stdout",
          "text": [
            "Requirement already satisfied: yt-dlp in /usr/local/lib/python3.10/dist-packages (2023.7.6)\n",
            "Requirement already satisfied: mutagen in /usr/local/lib/python3.10/dist-packages (from yt-dlp) (1.46.0)\n",
            "Requirement already satisfied: pycryptodomex in /usr/local/lib/python3.10/dist-packages (from yt-dlp) (3.18.0)\n",
            "Requirement already satisfied: websockets in /usr/local/lib/python3.10/dist-packages (from yt-dlp) (11.0.3)\n",
            "Requirement already satisfied: certifi in /usr/local/lib/python3.10/dist-packages (from yt-dlp) (2023.5.7)\n",
            "Requirement already satisfied: brotli in /usr/local/lib/python3.10/dist-packages (from yt-dlp) (1.0.9)\n",
            "Downloading clip: HdYoyzCSWyw\n",
            "Downloading clip: pDq9UzfCtGw\n",
            "Downloading clip: _VljYs8BhSE\n",
            "Downloading clip: 7g9yNsRz_Cs\n",
            "Downloading clip: 9VlPZ9heX70\n",
            "Downloading clip: 0rBo_9yyE9g\n",
            "Downloading clip: RB1olEZyXYU\n",
            "Downloading clip: lLN8ZIqkLiY\n",
            "Downloading clip: CcGB39f66RY\n",
            "Downloading clip: wV2WNFpaBdw\n",
            "Downloading clip: SdDey2sccpA\n",
            "Downloading clip: DPMLACR5jd0\n",
            "Downloading clip: AodllU2LAuw\n",
            "Downloading clip: KWV7olVNT2c\n",
            "Downloading clip: aGVg7q0prg8\n",
            "Downloading clip: aBkvV169x4k\n",
            "Downloading clip: OvTrsFZ0wiU\n",
            "Downloading clip: m0216aNTjgI\n",
            "Downloading clip: 8A4EwOyCgEQ\n",
            "Downloading clip: KAyKtlI3AfM\n",
            "Downloading clip: cVwrvVtWky4\n",
            "Downloading clip: wL_CtOM06_E\n",
            "Downloading clip: 6EAhKcpVtFA\n",
            "Downloading clip: _vt3V9Tt00c\n",
            "Downloading clip: lVPVTxE7p08\n"
          ]
        }
      ],
      "source": [
        "!pip install yt-dlp\n",
        "import os\n",
        "import subprocess\n",
        "import json\n",
        "import yt_dlp\n",
        "import cv2\n",
        "from concurrent.futures import ThreadPoolExecutor, as_completed\n",
        "\n",
        "class YouTubeClipDownloader:\n",
        "    def __init__(self, database_path, download_dir, json_output_path):\n",
        "        self.database_path = database_path\n",
        "        self.download_dir = download_dir\n",
        "        self.json_output_path = json_output_path\n",
        "        self.successful_downloads = 0\n",
        "\n",
        "    def get_frame_count(self, video_path):\n",
        "        # Open the video and get its properties\n",
        "        cap = cv2.VideoCapture(video_path)\n",
        "        frame_count = int(cap.get(cv2.CAP_PROP_FRAME_COUNT))\n",
        "        cap.release()\n",
        "        return frame_count\n",
        "\n",
        "    def shorten_caption(self, caption, max_length=50):\n",
        "        # Truncate the caption to fit within the specified max_length\n",
        "        if len(caption) > max_length:\n",
        "            caption = caption[:max_length - 3] + \"...\"\n",
        "        return caption\n",
        "\n",
        "    def download_clip(self, clip_info):\n",
        "        youtube_id = clip_info[\"YoutubeID\"]\n",
        "        start_time = clip_info[\"Start_timestamp\"]\n",
        "        end_time = clip_info[\"End_timestamp\"]\n",
        "        youtube_link = f\"https://www.youtube.com/watch?v={youtube_id}\"\n",
        "\n",
        "        caption = clip_info[\"Caption\"]  # Get the caption for the file name\n",
        "\n",
        "        # Truncate the caption to fit within the maximum filename length (e.g., 50 characters)\n",
        "        truncated_caption = self.shorten_caption(caption, max_length=50)\n",
        "\n",
        "        # Modify the output filename to include 'YOUTUBEID_CAPTIONHERE'\n",
        "        output_filename = f\"{youtube_id}_{truncated_caption}.mp4\"\n",
        "        output_path = os.path.join(self.download_dir, output_filename)\n",
        "\n",
        "        # Check if the output file already exists; if yes, skip downloading this clip\n",
        "        if os.path.exists(output_path):\n",
        "            print(f\"Skipping {youtube_id}. File already exists.\")\n",
        "            return\n",
        "\n",
        "        print(f\"Downloading clip: {youtube_id}\")\n",
        "        try:\n",
        "            # Download the clip using yt-dlp\n",
        "            command = [\n",
        "                \"yt-dlp\",\n",
        "                \"--verbose\",\n",
        "                \"--no-progress\",\n",
        "                \"--format\", \"bestvideo[ext=mp4]+bestaudio[ext=m4a]/mp4\",\n",
        "                \"--output\", output_path,\n",
        "                \"--postprocessor-args\", f\"-ss {start_time} -to {end_time}\",\n",
        "                youtube_link\n",
        "            ]\n",
        "            subprocess.check_call(command)\n",
        "        except subprocess.CalledProcessError as e:\n",
        "            print(f\"Error occurred while downloading {youtube_id}: {str(e)}\")\n",
        "            return\n",
        "        except Exception as ex:\n",
        "            print(f\"Unknown error occurred while downloading {youtube_id}: {str(ex)}\")\n",
        "            return\n",
        "\n",
        "        # Count the frames of the downloaded clip\n",
        "        num_frames = self.get_frame_count(output_path)\n",
        "\n",
        "        # Create the data entry for the current video clip\n",
        "        data_entry = {\n",
        "            \"video_path\": output_path,\n",
        "            \"num_frames\": num_frames,\n",
        "            \"data\": []\n",
        "        }\n",
        "\n",
        "        # Add the prompt data for each frame from the input JSONL\n",
        "        for frame_index in range(1, num_frames + 1):\n",
        "            data_entry[\"data\"].append({\n",
        "                \"frame_index\": frame_index,\n",
        "                \"prompt\": caption  # Use the full caption in the frame index entry\n",
        "            })\n",
        "\n",
        "        # Increment the successful_downloads counter\n",
        "        self.successful_downloads += 1\n",
        "\n",
        "        return data_entry\n",
        "\n",
        "    def download_clips(self):\n",
        "        if not os.path.exists(self.download_dir):\n",
        "            os.makedirs(self.download_dir)\n",
        "\n",
        "        output_data = []\n",
        "\n",
        "        with open(self.database_path, \"r\") as file:\n",
        "            for line in file:\n",
        "                clip_info = json.loads(line)\n",
        "                data_entry = self.download_clip(clip_info)\n",
        "                if data_entry:\n",
        "                    output_data.append(data_entry)\n",
        "\n",
        "                # Check if 5 successful downloads are completed, and write the data to the output JSON file\n",
        "                if self.successful_downloads % 5 == 0:\n",
        "                    self.write_to_output_json(output_data)\n",
        "                    output_data = []\n",
        "\n",
        "        # Write the remaining data to the output JSON file\n",
        "        if output_data:\n",
        "            self.write_to_output_json(output_data)\n",
        "\n",
        "    def write_to_output_json(self, data):\n",
        "        # Save the data in the desired format to the output JSON file\n",
        "        with open(self.json_output_path, \"a\") as json_file:\n",
        "            for entry in data:\n",
        "                json.dump(entry, json_file, indent=4)\n",
        "                json_file.write(\"\\n\")  # Add a newline after each entry\n",
        "\n",
        "if __name__ == \"__main__\":\n",
        "    database_path = \"/content/YouTubeClipDownloader/caption.jsonl\"\n",
        "    download_dir = \"/content/videos\"\n",
        "    json_output_path = \"/content/output.json\"\n",
        "\n",
        "    downloader = YouTubeClipDownloader(database_path, download_dir, json_output_path)\n",
        "    downloader.download_clips()\n"
      ]
    }
  ]
}